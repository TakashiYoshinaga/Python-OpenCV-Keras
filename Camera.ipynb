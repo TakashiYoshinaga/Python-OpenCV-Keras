{
 "cells": [
  {
   "cell_type": "code",
   "execution_count": 2,
   "metadata": {},
   "outputs": [
    {
     "data": {
      "text/plain": [
       "-1"
      ]
     },
     "execution_count": 2,
     "metadata": {},
     "output_type": "execute_result"
    }
   ],
   "source": [
    "import cv2\n",
    "\n",
    "cap = cv2.VideoCapture(0)\n",
    "\n",
    "while (True):\n",
    "    ret,frame = cap.read()\n",
    "\n",
    "    #サイズでかいとき対策として半分にする\n",
    "    h,w,_=frame.shape[:3]\n",
    "    frame = cv2.resize(frame, (int(w/2), int(h/2)))\n",
    "    \n",
    "    h,w,_=frame.shape[:3]\n",
    "    h_center=h//2\n",
    "    w_center=w//2\n",
    "    \n",
    "    cv2.rectangle(frame,(w_center-71,h_center-71),(w_center+71,h_center+71),(255,0,0))\n",
    "    \n",
    "    im=frame[h_center-70:h_center+70,w_center-70:w_center+70]\n",
    "    im=cv2.cvtColor(im,cv2.COLOR_BGR2GRAY)\n",
    "    _,im =cv2.threshold(im,0,255,cv2.THRESH_OTSU)\n",
    "    im=cv2.bitwise_not(im)\n",
    "    im=cv2.GaussianBlur(im,(9,9),0)\n",
    "    im=cv2.resize(im,(28,28),cv2.INTER_CUBIC)\n",
    "    \n",
    "    cv2.startWindowThread()\n",
    "    cv2.imshow(\"frame\",frame)\n",
    "    cv2.imshow(\"processed\",im)\n",
    "    key = cv2.waitKey(30) & 0xFF\n",
    "    if key ==ord('q') :\n",
    "        break\n",
    "cap.release()\n",
    "#フリーズ対策としてwaitKeyで挟む\n",
    "cv2.waitKey(1)\n",
    "cv2.destroyAllWindows()\n",
    "cv2.waitKey(1)\n"
   ]
  },
  {
   "cell_type": "code",
   "execution_count": null,
   "metadata": {},
   "outputs": [],
   "source": []
  }
 ],
 "metadata": {
  "kernelspec": {
   "display_name": "Python 3",
   "language": "python",
   "name": "python3"
  },
  "language_info": {
   "codemirror_mode": {
    "name": "ipython",
    "version": 3
   },
   "file_extension": ".py",
   "mimetype": "text/x-python",
   "name": "python",
   "nbconvert_exporter": "python",
   "pygments_lexer": "ipython3",
   "version": "3.7.6"
  }
 },
 "nbformat": 4,
 "nbformat_minor": 4
}
