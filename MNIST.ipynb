{
 "cells": [
  {
   "cell_type": "code",
   "execution_count": null,
   "metadata": {},
   "outputs": [],
   "source": [
    "import cv2\n",
    "#DeepLearningのために追加\n",
    "from keras.models import load_model\n",
    "import numpy as np\n",
    "model=load_model(\"mnist.h5\")\n",
    "\n",
    "cap = cv2.VideoCapture(0)\n",
    "\n",
    "while (True):\n",
    "    #DeepLearningのために追加\n",
    "    Xt=[]\n",
    "    Yt=[]\n",
    "    \n",
    "    ret,frame = cap.read()\n",
    "    \n",
    "    #サイズでかいとき対策として半分にする\n",
    "    h,w,_=frame.shape[:3]\n",
    "    frame = cv2.resize(frame, (int(w/2), int(h/2)))\n",
    "    \n",
    "    h,w,_=frame.shape[:3]\n",
    "    h_center=h//2\n",
    "    w_center=w//2\n",
    "    \n",
    "    cv2.rectangle(frame,(w_center-71,h_center-71),(w_center+71,h_center+71),(255,0,0))\n",
    "    \n",
    "    im=frame[h_center-70:h_center+70,w_center-70:w_center+70]\n",
    "    im=cv2.cvtColor(im,cv2.COLOR_BGR2GRAY)\n",
    "    _,im =cv2.threshold(im,0,255,cv2.THRESH_OTSU)\n",
    "    im=cv2.bitwise_not(im)\n",
    "    im=cv2.GaussianBlur(im,(9,9),0)\n",
    "    im=cv2.resize(im,(28,28),cv2.INTER_CUBIC)\n",
    "    \n",
    "    #DeepLearningのために追加\n",
    "    Xt.append(im)\n",
    "    Xt=np.array(Xt)/255\n",
    "    Xt=np.expand_dims(Xt,axis=-1)\n",
    "    result=model.predict(Xt,batch_size=1)\n",
    "    \n",
    "    #DeepLearningのために追加\n",
    "    for i in range(10):\n",
    "        r=round(result[0,i],2)\n",
    "        r=\"{0:0.2f}\".format(r)\n",
    "        Yt.append([i,r]);\n",
    "        Yt=sorted(Yt,key=lambda x:(x[1]))\n",
    "    cv2.putText(frame,\"1st:\" + str(Yt[9]),(10,40),cv2.FONT_HERSHEY_SIMPLEX,0.8,(255,255,255),1,cv2.LINE_AA)\n",
    "    \n",
    "    \n",
    "    cv2.startWindowThread()\n",
    "    cv2.imshow(\"frame\",frame)\n",
    "    cv2.imshow(\"debug\",im)\n",
    "    key = cv2.waitKey(30) & 0xFF\n",
    "    if key ==ord('q') :\n",
    "        break\n",
    "cap.release()\n",
    "#フリーズ対策としてwaitKeyで挟む\n",
    "cv2.waitKey(1)\n",
    "cv2.destroyAllWindows()\n",
    "cv2.waitKey(1)"
   ]
  },
  {
   "cell_type": "code",
   "execution_count": null,
   "metadata": {},
   "outputs": [],
   "source": []
  }
 ],
 "metadata": {
  "kernelspec": {
   "display_name": "Python 3",
   "language": "python",
   "name": "python3"
  },
  "language_info": {
   "codemirror_mode": {
    "name": "ipython",
    "version": 3
   },
   "file_extension": ".py",
   "mimetype": "text/x-python",
   "name": "python",
   "nbconvert_exporter": "python",
   "pygments_lexer": "ipython3",
   "version": "3.7.6"
  }
 },
 "nbformat": 4,
 "nbformat_minor": 4
}
